{
 "cells": [
  {
   "cell_type": "markdown",
   "id": "4c683456-4151-429e-ae41-56bbc1cb20c8",
   "metadata": {},
   "source": [
    "## Feature generaed for materials"
   ]
  },
  {
   "cell_type": "code",
   "execution_count": 1,
   "id": "442a0ce2-0103-4c0f-bbdc-82fe19232ab9",
   "metadata": {},
   "outputs": [
    {
     "data": {
      "application/vnd.jupyter.widget-view+json": {
       "model_id": "00ef65c06c5746ab81d59e2a85848d80",
       "version_major": 2,
       "version_minor": 0
      },
      "text/plain": [
       "StrToComposition:   0%|          | 0/1 [00:00<?, ?it/s]"
      ]
     },
     "metadata": {},
     "output_type": "display_data"
    },
    {
     "name": "stderr",
     "output_type": "stream",
     "text": [
      "/home/ab/anaconda3/envs/Jupyter/lib/python3.8/site-packages/pymatgen/ext/matproj.py:186: UserWarning: You are using the legacy MPRester. This version of the MPRester will no longer be updated. To access the latest data with the new MPRester, obtain a new API key from https://materialsproject.org/api and consult the docs at https://docs.materialsproject.org/ for more information.\n",
      "  warnings.warn(\n"
     ]
    },
    {
     "data": {
      "application/vnd.jupyter.widget-view+json": {
       "model_id": "830481b13e1049209fb4a61ac7a4f2bf",
       "version_major": 2,
       "version_minor": 0
      },
      "text/plain": [
       "CompositionToStructureFromMP:   0%|          | 0/1 [00:00<?, ?it/s]"
      ]
     },
     "metadata": {},
     "output_type": "display_data"
    },
    {
     "data": {
      "application/vnd.jupyter.widget-view+json": {
       "model_id": "492d2ae4e469493f8f64e189b37ee6f4",
       "version_major": 2,
       "version_minor": 0
      },
      "text/plain": [
       "DensityFeatures:   0%|          | 0/1 [00:00<?, ?it/s]"
      ]
     },
     "metadata": {},
     "output_type": "display_data"
    },
    {
     "data": {
      "application/vnd.jupyter.widget-view+json": {
       "model_id": "327bb01750e24643af5301ce9d60c855",
       "version_major": 2,
       "version_minor": 0
      },
      "text/plain": [
       "ElementProperty:   0%|          | 0/1 [00:00<?, ?it/s]"
      ]
     },
     "metadata": {},
     "output_type": "display_data"
    },
    {
     "data": {
      "application/vnd.jupyter.widget-view+json": {
       "model_id": "a8260efdb4c34febb33b70b6e39485b4",
       "version_major": 2,
       "version_minor": 0
      },
      "text/plain": [
       "ElementProperty:   0%|          | 0/1 [00:00<?, ?it/s]"
      ]
     },
     "metadata": {},
     "output_type": "display_data"
    },
    {
     "data": {
      "application/vnd.jupyter.widget-view+json": {
       "model_id": "cd494ac470c9485d9d6424b4a665f33d",
       "version_major": 2,
       "version_minor": 0
      },
      "text/plain": [
       "ElementProperty:   0%|          | 0/1 [00:00<?, ?it/s]"
      ]
     },
     "metadata": {},
     "output_type": "display_data"
    },
    {
     "data": {
      "application/vnd.jupyter.widget-view+json": {
       "model_id": "5b03f554fb154e8c906d81731c68843a",
       "version_major": 2,
       "version_minor": 0
      },
      "text/plain": [
       "SiteStatsFingerprint:   0%|          | 0/1 [00:00<?, ?it/s]"
      ]
     },
     "metadata": {},
     "output_type": "display_data"
    },
    {
     "name": "stderr",
     "output_type": "stream",
     "text": [
      "/home/ab/anaconda3/envs/Jupyter/lib/python3.8/site-packages/matminer/featurizers/utils/stats.py:226: RuntimeWarning: divide by zero encountered in scalar divide\n",
      "  beta = np.sum(weights) / (np.sum(weights) ** 2 - np.sum(np.power(weights, 2)))\n",
      "/home/ab/anaconda3/envs/Jupyter/lib/python3.8/site-packages/matminer/featurizers/utils/stats.py:228: RuntimeWarning: invalid value encountered in scalar multiply\n",
      "  return np.sqrt(np.exp(beta * np.dot(weights, np.power(dev, 2))))\n"
     ]
    },
    {
     "data": {
      "application/vnd.jupyter.widget-view+json": {
       "model_id": "555a75307cf7441e8ff0de94cb44fdb8",
       "version_major": 2,
       "version_minor": 0
      },
      "text/plain": [
       "SiteStatsFingerprint:   0%|          | 0/1 [00:00<?, ?it/s]"
      ]
     },
     "metadata": {},
     "output_type": "display_data"
    },
    {
     "name": "stderr",
     "output_type": "stream",
     "text": [
      "/home/ab/anaconda3/envs/Jupyter/lib/python3.8/site-packages/matminer/featurizers/utils/stats.py:226: RuntimeWarning: divide by zero encountered in scalar divide\n",
      "  beta = np.sum(weights) / (np.sum(weights) ** 2 - np.sum(np.power(weights, 2)))\n",
      "/home/ab/anaconda3/envs/Jupyter/lib/python3.8/site-packages/matminer/featurizers/utils/stats.py:228: RuntimeWarning: invalid value encountered in scalar multiply\n",
      "  return np.sqrt(np.exp(beta * np.dot(weights, np.power(dev, 2))))\n"
     ]
    },
    {
     "data": {
      "application/vnd.jupyter.widget-view+json": {
       "model_id": "651938d7e2a54f908241a897643861d2",
       "version_major": 2,
       "version_minor": 0
      },
      "text/plain": [
       "ElementProperty:   0%|          | 0/1 [00:00<?, ?it/s]"
      ]
     },
     "metadata": {},
     "output_type": "display_data"
    },
    {
     "data": {
      "application/vnd.jupyter.widget-view+json": {
       "model_id": "67728be584934367a8b46fc7b312f590",
       "version_major": 2,
       "version_minor": 0
      },
      "text/plain": [
       "ElementProperty:   0%|          | 0/1 [00:00<?, ?it/s]"
      ]
     },
     "metadata": {},
     "output_type": "display_data"
    },
    {
     "data": {
      "application/vnd.jupyter.widget-view+json": {
       "model_id": "ef18eaece40d4756a45771e47a9fa93f",
       "version_major": 2,
       "version_minor": 0
      },
      "text/plain": [
       "ElementProperty:   0%|          | 0/1 [00:00<?, ?it/s]"
      ]
     },
     "metadata": {},
     "output_type": "display_data"
    },
    {
     "data": {
      "application/vnd.jupyter.widget-view+json": {
       "model_id": "d0950b7863014bcdbad6bb4aa5d4d310",
       "version_major": 2,
       "version_minor": 0
      },
      "text/plain": [
       "ElementProperty:   0%|          | 0/1 [00:00<?, ?it/s]"
      ]
     },
     "metadata": {},
     "output_type": "display_data"
    },
    {
     "data": {
      "application/vnd.jupyter.widget-view+json": {
       "model_id": "e662470ba80f496091f9b59b485e906b",
       "version_major": 2,
       "version_minor": 0
      },
      "text/plain": [
       "ElementProperty:   0%|          | 0/1 [00:00<?, ?it/s]"
      ]
     },
     "metadata": {},
     "output_type": "display_data"
    },
    {
     "data": {
      "application/vnd.jupyter.widget-view+json": {
       "model_id": "7b9554b001cc4b24b758773a967d1493",
       "version_major": 2,
       "version_minor": 0
      },
      "text/plain": [
       "ElementProperty:   0%|          | 0/1 [00:00<?, ?it/s]"
      ]
     },
     "metadata": {},
     "output_type": "display_data"
    },
    {
     "data": {
      "application/vnd.jupyter.widget-view+json": {
       "model_id": "982bd888ede44a3388518e514358c520",
       "version_major": 2,
       "version_minor": 0
      },
      "text/plain": [
       "ElementProperty:   0%|          | 0/1 [00:00<?, ?it/s]"
      ]
     },
     "metadata": {},
     "output_type": "display_data"
    },
    {
     "data": {
      "application/vnd.jupyter.widget-view+json": {
       "model_id": "36ef0bbb4d564b8ba92fd863977f105b",
       "version_major": 2,
       "version_minor": 0
      },
      "text/plain": [
       "ElementProperty:   0%|          | 0/1 [00:00<?, ?it/s]"
      ]
     },
     "metadata": {},
     "output_type": "display_data"
    },
    {
     "data": {
      "application/vnd.jupyter.widget-view+json": {
       "model_id": "b3bf7efc9643403ba4abc848ad04a3e7",
       "version_major": 2,
       "version_minor": 0
      },
      "text/plain": [
       "ElementProperty:   0%|          | 0/1 [00:00<?, ?it/s]"
      ]
     },
     "metadata": {},
     "output_type": "display_data"
    },
    {
     "data": {
      "application/vnd.jupyter.widget-view+json": {
       "model_id": "0efb970991af4bb2a15fa8447db95ffa",
       "version_major": 2,
       "version_minor": 0
      },
      "text/plain": [
       "ElementProperty:   0%|          | 0/1 [00:00<?, ?it/s]"
      ]
     },
     "metadata": {},
     "output_type": "display_data"
    },
    {
     "data": {
      "application/vnd.jupyter.widget-view+json": {
       "model_id": "47d565544c5a4d369a651ff767978317",
       "version_major": 2,
       "version_minor": 0
      },
      "text/plain": [
       "ElementProperty:   0%|          | 0/1 [00:00<?, ?it/s]"
      ]
     },
     "metadata": {},
     "output_type": "display_data"
    },
    {
     "data": {
      "application/vnd.jupyter.widget-view+json": {
       "model_id": "d31c4f21092142089c31399810b8d5a8",
       "version_major": 2,
       "version_minor": 0
      },
      "text/plain": [
       "ElementProperty:   0%|          | 0/1 [00:00<?, ?it/s]"
      ]
     },
     "metadata": {},
     "output_type": "display_data"
    },
    {
     "data": {
      "application/vnd.jupyter.widget-view+json": {
       "model_id": "5cc8830ca48049aabd4dc1322de3a055",
       "version_major": 2,
       "version_minor": 0
      },
      "text/plain": [
       "ElementProperty:   0%|          | 0/1 [00:00<?, ?it/s]"
      ]
     },
     "metadata": {},
     "output_type": "display_data"
    },
    {
     "data": {
      "application/vnd.jupyter.widget-view+json": {
       "model_id": "16e36246ce7b4c3a9e19c21d1a9bb556",
       "version_major": 2,
       "version_minor": 0
      },
      "text/plain": [
       "ElementProperty:   0%|          | 0/1 [00:00<?, ?it/s]"
      ]
     },
     "metadata": {},
     "output_type": "display_data"
    },
    {
     "data": {
      "application/vnd.jupyter.widget-view+json": {
       "model_id": "bc56bd89aeef417e99ddddf1d223a044",
       "version_major": 2,
       "version_minor": 0
      },
      "text/plain": [
       "ElementProperty:   0%|          | 0/1 [00:00<?, ?it/s]"
      ]
     },
     "metadata": {},
     "output_type": "display_data"
    },
    {
     "data": {
      "application/vnd.jupyter.widget-view+json": {
       "model_id": "f149f72402c449ce997e80c7ba2f1baf",
       "version_major": 2,
       "version_minor": 0
      },
      "text/plain": [
       "ElementProperty:   0%|          | 0/1 [00:00<?, ?it/s]"
      ]
     },
     "metadata": {},
     "output_type": "display_data"
    },
    {
     "data": {
      "application/vnd.jupyter.widget-view+json": {
       "model_id": "d4654def8e514a84a4b6afa9ff1f52d2",
       "version_major": 2,
       "version_minor": 0
      },
      "text/plain": [
       "CohesiveEnergyMP:   0%|          | 0/1 [00:00<?, ?it/s]"
      ]
     },
     "metadata": {},
     "output_type": "display_data"
    },
    {
     "name": "stderr",
     "output_type": "stream",
     "text": [
      "/home/ab/anaconda3/envs/Jupyter/lib/python3.8/site-packages/pymatgen/ext/matproj.py:186: UserWarning: You are using the legacy MPRester. This version of the MPRester will no longer be updated. To access the latest data with the new MPRester, obtain a new API key from https://materialsproject.org/api and consult the docs at https://docs.materialsproject.org/ for more information.\n",
      "  warnings.warn(\n"
     ]
    }
   ],
   "source": [
    "#load inputdata\n",
    "import numpy as np\n",
    "from numpy import array\n",
    "import pandas as pd\n",
    "\n",
    "df=pd.read_csv('predict_list.csv')\n",
    "\n",
    "##create target properties and features from matminer\n",
    "#create composition\n",
    "from matminer.featurizers.conversions import StrToComposition\n",
    "\n",
    "df = StrToComposition().featurize_dataframe(df, \"formula\")\n",
    "\n",
    "#create structure feature\n",
    "from matminer.featurizers.conversions import CompositionToStructureFromMP\n",
    "\n",
    "CtoS_feat = CompositionToStructureFromMP(mapi_key=\"D8Q0TTf1B2JyAhM9\")\n",
    "df = CtoS_feat.featurize_dataframe(df,\"composition\",ignore_errors=True)\n",
    "\n",
    "#create density, vpa, packing fraction features\n",
    "from matminer.featurizers.structure import DensityFeatures\n",
    "\n",
    "df_feat = DensityFeatures()\n",
    "df = df_feat.featurize_dataframe(df, \"structure\",ignore_errors=True) \n",
    "\n",
    "#create boiling point feature\n",
    "from matminer.featurizers.composition import ElementProperty\n",
    "\n",
    "ep_feat = ElementProperty(\"pymatgen\", [\"boiling_point\"],[\"minimum\",\"mean\",\"maximum\"])\n",
    "df = ep_feat.featurize_dataframe(df,\"composition\")\n",
    "\n",
    "#create molar volume feature\n",
    "from matminer.featurizers.composition import ElementProperty\n",
    "\n",
    "ep_feat = ElementProperty(\"pymatgen\", [\"molar_volume\"],[\"minimum\",\"mean\",\"maximum\"])\n",
    "df = ep_feat.featurize_dataframe(df,\"composition\",ignore_errors=True)\n",
    "\n",
    "#creat First Ionization Energy feature\n",
    "from matminer.featurizers.composition import ElementProperty\n",
    "\n",
    "ep_feat = ElementProperty(\"magpie\", [\"FirstIonizationEnergy\"],[\"minimum\",\"mean\",\"maximum\"])\n",
    "df = ep_feat.featurize_dataframe(df,\"composition\")\n",
    "\n",
    "#creat band length feature\n",
    "from matminer.featurizers.structure import SiteStatsFingerprint\n",
    "\n",
    "ssf_feat = SiteStatsFingerprint.from_preset(\"BondLength-dejong2016\")\n",
    "df = ssf_feat.featurize_dataframe(df, \"structure\",ignore_errors=True) \n",
    "\n",
    "#creat band angle feature\n",
    "from matminer.featurizers.structure import SiteStatsFingerprint\n",
    "\n",
    "ssf_feat = SiteStatsFingerprint.from_preset(\"BondAngle-dejong2016\")\n",
    "df = ssf_feat.featurize_dataframe(df, \"structure\",ignore_errors=True) \n",
    "\n",
    "#creat space group number feature\n",
    "from matminer.featurizers.composition import ElementProperty\n",
    "\n",
    "ep_feat = ElementProperty(\"magpie\", [\"SpaceGroupNumber\"],[\"mean\"])\n",
    "df = ep_feat.featurize_dataframe(df,\"composition\")\n",
    "\n",
    "#creat Number feature\n",
    "from matminer.featurizers.composition import ElementProperty\n",
    "\n",
    "ep_feat = ElementProperty(\"magpie\", [\"Number\"],[\"minimum\",\"mean\",\"maximum\"])\n",
    "df = ep_feat.featurize_dataframe(df,\"composition\")\n",
    "\n",
    "#creat MendeleevNumber feature\n",
    "from matminer.featurizers.composition import ElementProperty\n",
    "\n",
    "ep_feat = ElementProperty(\"magpie\", [\"MendeleevNumber\"],[\"minimum\",\"mean\",\"maximum\"])\n",
    "df = ep_feat.featurize_dataframe(df,\"composition\")\n",
    "\n",
    "#creat Melting Temperature feature\n",
    "from matminer.featurizers.composition import ElementProperty\n",
    "\n",
    "ep_feat = ElementProperty(\"magpie\", [\"MeltingT\"],[\"minimum\",\"mean\",\"maximum\"])\n",
    "df = ep_feat.featurize_dataframe(df,\"composition\")\n",
    "\n",
    "#creat Column feature\n",
    "from matminer.featurizers.composition import ElementProperty\n",
    "\n",
    "ep_feat = ElementProperty(\"magpie\", [\"Column\"],[\"minimum\",\"mean\",\"maximum\"])\n",
    "df = ep_feat.featurize_dataframe(df,\"composition\")\n",
    "\n",
    "#creat Row feature\n",
    "from matminer.featurizers.composition import ElementProperty\n",
    "\n",
    "ep_feat = ElementProperty(\"magpie\", [\"Row\"],[\"minimum\",\"mean\",\"maximum\"])\n",
    "df = ep_feat.featurize_dataframe(df,\"composition\")\n",
    "\n",
    "#creat Covalent Radius feature\n",
    "from matminer.featurizers.composition import ElementProperty\n",
    "\n",
    "ep_feat = ElementProperty(\"magpie\", [\"CovalentRadius\"],[\"minimum\",\"mean\",\"maximum\"])\n",
    "df = ep_feat.featurize_dataframe(df,\"composition\")\n",
    "\n",
    "#creat Electronegativity feature\n",
    "from matminer.featurizers.composition import ElementProperty\n",
    "\n",
    "ep_feat = ElementProperty(\"magpie\", [\"Electronegativity\"],[\"minimum\",\"mean\",\"maximum\"])\n",
    "df = ep_feat.featurize_dataframe(df,\"composition\")\n",
    "\n",
    "#creat NsValence feature\n",
    "from matminer.featurizers.composition import ElementProperty\n",
    "\n",
    "ep_feat = ElementProperty(\"magpie\", [\"NsValence\"],[\"minimum\",\"mean\",\"maximum\"])\n",
    "df = ep_feat.featurize_dataframe(df,\"composition\")\n",
    "\n",
    "#creat NpValence feature\n",
    "from matminer.featurizers.composition import ElementProperty\n",
    "\n",
    "ep_feat = ElementProperty(\"magpie\", [\"NpValence\"],[\"minimum\",\"mean\",\"maximum\"])\n",
    "df = ep_feat.featurize_dataframe(df,\"composition\")\n",
    "\n",
    "#creat NdValence feature\n",
    "from matminer.featurizers.composition import ElementProperty\n",
    "\n",
    "ep_feat = ElementProperty(\"magpie\", [\"NdValence\"],[\"minimum\",\"mean\",\"maximum\"])\n",
    "df = ep_feat.featurize_dataframe(df,\"composition\")\n",
    "\n",
    "#creat NfValence feature\n",
    "from matminer.featurizers.composition import ElementProperty\n",
    "\n",
    "ep_feat = ElementProperty(\"magpie\", [\"NfValence\"],[\"minimum\",\"mean\",\"maximum\"])\n",
    "df = ep_feat.featurize_dataframe(df,\"composition\")\n",
    "\n",
    "#creat GSvolume_pa feature\n",
    "from matminer.featurizers.composition import ElementProperty\n",
    "\n",
    "ep_feat = ElementProperty(\"magpie\", [\"GSvolume_pa\"],[\"minimum\",\"mean\",\"maximum\"])\n",
    "df = ep_feat.featurize_dataframe(df,\"composition\")\n",
    "\n",
    "#creat block feature\n",
    "from matminer.featurizers.composition import ElementProperty\n",
    "\n",
    "ep_feat = ElementProperty(\"pymatgen\", [\"block\"],[\"minimum\",\"mean\",\"maximum\"])\n",
    "df = ep_feat.featurize_dataframe(df,\"composition\",ignore_errors=True)\n",
    "\n",
    "#creat atomic mass feature\n",
    "from matminer.featurizers.composition import ElementProperty\n",
    "\n",
    "ep_feat = ElementProperty(\"pymatgen\", [\"atomic_mass\"],[\"minimum\",\"mean\",\"maximum\"])\n",
    "df = ep_feat.featurize_dataframe(df,\"composition\",ignore_errors=True)\n",
    "\n",
    "#creat atomic radius feature\n",
    "from matminer.featurizers.composition import ElementProperty\n",
    "\n",
    "ep_feat = ElementProperty(\"pymatgen\", [\"atomic_radius\"],[\"minimum\",\"mean\",\"maximum\"])\n",
    "df = ep_feat.featurize_dataframe(df,\"composition\",ignore_errors=True)\n",
    "\n",
    "\n",
    "#creat cohesive Energy feature\n",
    "from matminer.featurizers.composition import CohesiveEnergyMP\n",
    "\n",
    "CE_feat = CohesiveEnergyMP(mapi_key=\"D8Q0TTf1B2JyAhM9\")\n",
    "df = CE_feat.featurize_dataframe(df,\"composition\",ignore_errors=True)  \n",
    "\n",
    "#remove unwanted items and features\n",
    "excluded = [\"formula\",\"composition\",\"structure\",\"holder_mean::-4 Average bond length\",\\\n",
    "            \"holder_mean::-3 Average bond length\",\"holder_mean::-2 Average bond length\",\\\n",
    "            \"holder_mean::-1 Average bond length\",\"holder_mean::1 Average bond length\",\\\n",
    "            \"holder_mean::2 Average bond length\",\"holder_mean::3 Average bond length\",\\\n",
    "            \"holder_mean::4 Average bond length\",\"std_dev Average bond length\",\\\n",
    "            \"geom_std_dev Average bond length\",\"holder_mean::-4 Average bond angle\",\\\n",
    "            \"holder_mean::-4 Average bond angle\",\"holder_mean::-3 Average bond angle\"\\\n",
    "            ,\"holder_mean::-2 Average bond angle\",\"holder_mean::-1 Average bond angle\",\\\n",
    "            \"holder_mean::1 Average bond angle\",\"holder_mean::2 Average bond angle\"\\\n",
    "            ,\"holder_mean::3 Average bond angle\",\"holder_mean::4 Average bond angle\",\\\n",
    "           \"std_dev Average bond angle\",\"geom_std_dev Average bond angle\"]\n",
    "\n",
    "X = df.drop(excluded, axis=1)\n",
    "\n",
    "#save\n",
    "X.to_csv('Predictfeatures.csv')"
   ]
  },
  {
   "cell_type": "markdown",
   "id": "7f55d78b-8c8c-485d-88f7-b3a6c267d696",
   "metadata": {},
   "source": [
    "## FinalKLModelweighted "
   ]
  },
  {
   "cell_type": "code",
   "execution_count": 2,
   "id": "fcee3f11-741d-44c0-b001-a44a90c79405",
   "metadata": {},
   "outputs": [
    {
     "name": "stdout",
     "output_type": "stream",
     "text": [
      "All Predicted KL values:\n",
      "Prediction 1: 8.575844790633825\n"
     ]
    }
   ],
   "source": [
    "import numpy as np\n",
    "import pandas as pd\n",
    "import math\n",
    "import joblib\n",
    "from sklearn.utils import shuffle\n",
    "%matplotlib inline\n",
    "\n",
    "# Load the pre-trained model\n",
    "RF = joblib.load('FinalKLModelWeighted.joblib')\n",
    "\n",
    "# Load the dataset with features from the previous steps\n",
    "df_pre = pd.read_csv('Predictfeatures.csv')\n",
    "\n",
    "# Replace inf, -inf, and NaN with 0 in the feature data\n",
    "X_pre = df_pre.replace([np.inf, -np.inf, np.nan], 0).reset_index(drop=True)\n",
    "\n",
    "# Predict for all materials\n",
    "Prediction = RF.predict(X_pre)\n",
    "\n",
    "# Apply the math.pow(10, x) transformation to all predictions (for thermal conductivity)\n",
    "Prediction_transformed = [math.pow(10, pred) for pred in Prediction]\n",
    "\n",
    "# Save the predicted values to a CSV file along with the formulas\n",
    "df_results = pd.DataFrame({\n",
    "    'Predicted_KL': Prediction_transformed\n",
    "})\n",
    "\n",
    "# Save the predictions to a new CSV file\n",
    "df_results.to_csv('predict_list_FinalKLModelWeighted.csv', index=False)\n",
    "\n",
    "# Print all predicted KL values\n",
    "print(\"All Predicted KL values:\")\n",
    "for i, value in enumerate(Prediction_transformed):\n",
    "    print(f\"Prediction {i + 1}: {value}\")\n"
   ]
  },
  {
   "cell_type": "markdown",
   "id": "629515d9-1e7b-40b5-b5e2-b61f4ca8b492",
   "metadata": {},
   "source": [
    "## FinalKLModel"
   ]
  },
  {
   "cell_type": "code",
   "execution_count": 3,
   "id": "dd3d08f5-9f69-41e4-9ef5-6386eeb9ba9e",
   "metadata": {},
   "outputs": [
    {
     "name": "stdout",
     "output_type": "stream",
     "text": [
      "All Predicted KL values:\n",
      "Prediction 1: 11.084630860311364\n"
     ]
    }
   ],
   "source": [
    "import numpy as np\n",
    "import pandas as pd\n",
    "import math\n",
    "import joblib\n",
    "from sklearn.utils import shuffle\n",
    "%matplotlib inline\n",
    "\n",
    "# Load the pre-trained model\n",
    "RF = joblib.load('FinalKLModel.joblib')\n",
    "\n",
    "# Load the dataset with features from the previous steps\n",
    "df_pre = pd.read_csv('Predictfeatures.csv')\n",
    "\n",
    "# Replace inf, -inf, and NaN with 0 in the feature data\n",
    "X_pre = df_pre.replace([np.inf, -np.inf, np.nan], 0).reset_index(drop=True)\n",
    "\n",
    "# Predict for all materials\n",
    "Prediction = RF.predict(X_pre)\n",
    "\n",
    "# Apply the math.pow(10, x) transformation to all predictions (for thermal conductivity)\n",
    "Prediction_transformed = [math.pow(10, pred) for pred in Prediction]\n",
    "\n",
    "# Save the predicted values to a CSV file along with the formulas\n",
    "df_results = pd.DataFrame({\n",
    "    'Predicted_KL': Prediction_transformed\n",
    "})\n",
    "\n",
    "# Save the predictions to a new CSV file\n",
    "df_results.to_csv('predict_list_FinalKLModel.csv', index=False)\n",
    "\n",
    "# Print all predicted KL values\n",
    "print(\"All Predicted KL values:\")\n",
    "for i, value in enumerate(Prediction_transformed):\n",
    "    print(f\"Prediction {i + 1}: {value}\")\n"
   ]
  },
  {
   "cell_type": "code",
   "execution_count": 1,
   "id": "3cf697db-76cb-4ef2-9277-391aebb3bfc8",
   "metadata": {},
   "outputs": [
    {
     "name": "stdout",
     "output_type": "stream",
     "text": [
      "Python version: 3.8.19 (default, Mar 20 2024, 19:58:24) \n",
      "[GCC 11.2.0]\n",
      "scikit-learn version: 1.3.2\n",
      "matminer version: 0.9.0\n"
     ]
    }
   ],
   "source": [
    "import sys\n",
    "print(f\"Python version: {sys.version}\")\n",
    "import sklearn\n",
    "print(f\"scikit-learn version: {sklearn.__version__}\")\n",
    "import matminer\n",
    "print(f\"matminer version: {matminer.__version__}\")"
   ]
  },
  {
   "cell_type": "code",
   "execution_count": null,
   "id": "6d34f392-0ac7-4903-ba2e-812f02f893ad",
   "metadata": {},
   "outputs": [],
   "source": []
  }
 ],
 "metadata": {
  "kernelspec": {
   "display_name": "Python 3 (ipykernel)",
   "language": "python",
   "name": "python3"
  },
  "language_info": {
   "codemirror_mode": {
    "name": "ipython",
    "version": 3
   },
   "file_extension": ".py",
   "mimetype": "text/x-python",
   "name": "python",
   "nbconvert_exporter": "python",
   "pygments_lexer": "ipython3",
   "version": "3.8.19"
  }
 },
 "nbformat": 4,
 "nbformat_minor": 5
}
